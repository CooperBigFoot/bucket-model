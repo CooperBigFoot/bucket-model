{
 "cells": [
  {
   "cell_type": "code",
   "execution_count": 1,
   "metadata": {},
   "outputs": [],
   "source": [
    "from bucket_model import BucketModel\n",
    "from bucket_model_optimizer import BucketModelOptimizer\n",
    "from data_preprocessor import preprocess_data\n",
    "\n",
    "import pandas as pd"
   ]
  },
  {
   "cell_type": "code",
   "execution_count": 2,
   "metadata": {},
   "outputs": [
    {
     "data": {
      "text/html": [
       "<div>\n",
       "<style scoped>\n",
       "    .dataframe tbody tr th:only-of-type {\n",
       "        vertical-align: middle;\n",
       "    }\n",
       "\n",
       "    .dataframe tbody tr th {\n",
       "        vertical-align: top;\n",
       "    }\n",
       "\n",
       "    .dataframe thead th {\n",
       "        text-align: right;\n",
       "    }\n",
       "</style>\n",
       "<table border=\"1\" class=\"dataframe\">\n",
       "  <thead>\n",
       "    <tr style=\"text-align: right;\">\n",
       "      <th></th>\n",
       "      <th>P_mix</th>\n",
       "      <th>T_max</th>\n",
       "      <th>T_min</th>\n",
       "      <th>Q</th>\n",
       "    </tr>\n",
       "    <tr>\n",
       "      <th>date</th>\n",
       "      <th></th>\n",
       "      <th></th>\n",
       "      <th></th>\n",
       "      <th></th>\n",
       "    </tr>\n",
       "  </thead>\n",
       "  <tbody>\n",
       "    <tr>\n",
       "      <th>1986-01-01</th>\n",
       "      <td>2.5</td>\n",
       "      <td>-2.5</td>\n",
       "      <td>-11.6</td>\n",
       "      <td>0.512733</td>\n",
       "    </tr>\n",
       "    <tr>\n",
       "      <th>1986-01-02</th>\n",
       "      <td>0.2</td>\n",
       "      <td>2.6</td>\n",
       "      <td>-10.7</td>\n",
       "      <td>0.537470</td>\n",
       "    </tr>\n",
       "    <tr>\n",
       "      <th>1986-01-03</th>\n",
       "      <td>4.3</td>\n",
       "      <td>2.2</td>\n",
       "      <td>-5.3</td>\n",
       "      <td>0.532972</td>\n",
       "    </tr>\n",
       "    <tr>\n",
       "      <th>1986-01-04</th>\n",
       "      <td>3.4</td>\n",
       "      <td>-4.0</td>\n",
       "      <td>-12.9</td>\n",
       "      <td>0.526226</td>\n",
       "    </tr>\n",
       "    <tr>\n",
       "      <th>1986-01-05</th>\n",
       "      <td>3.6</td>\n",
       "      <td>1.9</td>\n",
       "      <td>-13.3</td>\n",
       "      <td>0.526226</td>\n",
       "    </tr>\n",
       "    <tr>\n",
       "      <th>...</th>\n",
       "      <td>...</td>\n",
       "      <td>...</td>\n",
       "      <td>...</td>\n",
       "      <td>...</td>\n",
       "    </tr>\n",
       "    <tr>\n",
       "      <th>2000-09-26</th>\n",
       "      <td>0.0</td>\n",
       "      <td>16.3</td>\n",
       "      <td>5.8</td>\n",
       "      <td>3.215825</td>\n",
       "    </tr>\n",
       "    <tr>\n",
       "      <th>2000-09-27</th>\n",
       "      <td>0.0</td>\n",
       "      <td>15.6</td>\n",
       "      <td>5.3</td>\n",
       "      <td>3.238313</td>\n",
       "    </tr>\n",
       "    <tr>\n",
       "      <th>2000-09-28</th>\n",
       "      <td>0.0</td>\n",
       "      <td>14.1</td>\n",
       "      <td>6.0</td>\n",
       "      <td>3.238313</td>\n",
       "    </tr>\n",
       "    <tr>\n",
       "      <th>2000-09-29</th>\n",
       "      <td>5.0</td>\n",
       "      <td>13.3</td>\n",
       "      <td>4.9</td>\n",
       "      <td>3.598126</td>\n",
       "    </tr>\n",
       "    <tr>\n",
       "      <th>2000-09-30</th>\n",
       "      <td>30.4</td>\n",
       "      <td>9.9</td>\n",
       "      <td>5.7</td>\n",
       "      <td>5.532119</td>\n",
       "    </tr>\n",
       "  </tbody>\n",
       "</table>\n",
       "<p>5387 rows × 4 columns</p>\n",
       "</div>"
      ],
      "text/plain": [
       "            P_mix  T_max  T_min         Q\n",
       "date                                     \n",
       "1986-01-01    2.5   -2.5  -11.6  0.512733\n",
       "1986-01-02    0.2    2.6  -10.7  0.537470\n",
       "1986-01-03    4.3    2.2   -5.3  0.532972\n",
       "1986-01-04    3.4   -4.0  -12.9  0.526226\n",
       "1986-01-05    3.6    1.9  -13.3  0.526226\n",
       "...           ...    ...    ...       ...\n",
       "2000-09-26    0.0   16.3    5.8  3.215825\n",
       "2000-09-27    0.0   15.6    5.3  3.238313\n",
       "2000-09-28    0.0   14.1    6.0  3.238313\n",
       "2000-09-29    5.0   13.3    4.9  3.598126\n",
       "2000-09-30   30.4    9.9    5.7  5.532119\n",
       "\n",
       "[5387 rows x 4 columns]"
      ]
     },
     "execution_count": 2,
     "metadata": {},
     "output_type": "execute_result"
    }
   ],
   "source": [
    "path_to_file = '/Users/cooper/Desktop/BucketModel/data/GSTEIGmeteo.txt'\n",
    "output_destination = '/Users/cooper/Desktop/BucketModel/data/GSTEIGmeteo.csv'\n",
    "catchment_area = 384.2 # km^2\n",
    "training_data = preprocess_data(path_to_file=path_to_file, catchment_area=catchment_area)\n",
    "\n",
    "# training_data = pd.read_csv(output_destination, index_col=0)\n",
    "# training_data.index = pd.to_datetime(training_data.index)\n",
    "\n",
    "training_data"
   ]
  },
  {
   "cell_type": "code",
   "execution_count": 3,
   "metadata": {},
   "outputs": [],
   "source": [
    "# Initialize the BucketModel with initial parameter guesses\n",
    "bucket = BucketModel(0.5, 20, 0.14, 15.15)  # k, S_max, fr, rg\n",
    "bucket.set_catchment_properties(0.5/100, 1638, 2035, 0, 46.9)\n",
    "\n",
    "# Initialize the BucketModelOptimizer with the BucketModel instance and observed data\n",
    "optimizer = BucketModelOptimizer(model=bucket, training_data=training_data)\n",
    "\n",
    "# Optionally, set additional optimization options, like optimization method, parameter bounds, etc.\n",
    "optimizer.set_options(method='local', bounds={'k': (0.1, 1), 'S_max': (10, 50), 'fr': (0.1, 0.3), 'rg': (10, 20)})"
   ]
  },
  {
   "cell_type": "code",
   "execution_count": 4,
   "metadata": {},
   "outputs": [],
   "source": [
    "# Run the optimization to calibrate the model parameters\n",
    "optimized_parameters = optimizer.optimize()"
   ]
  },
  {
   "cell_type": "code",
   "execution_count": 5,
   "metadata": {},
   "outputs": [
    {
     "data": {
      "text/plain": [
       "{'k': 0.34910430579268387,\n",
       " 'S_max': 44.31003870118485,\n",
       " 'fr': 0.21813218010247828,\n",
       " 'rg': 19.547247325923625}"
      ]
     },
     "execution_count": 5,
     "metadata": {},
     "output_type": "execute_result"
    }
   ],
   "source": [
    "optimized_parameters"
   ]
  },
  {
   "cell_type": "code",
   "execution_count": 6,
   "metadata": {},
   "outputs": [
    {
     "data": {
      "text/plain": [
       "BucketModel(k=0.34910430579268387, S_max=44.31003870118485, fr=0.21813218010247828, rg=19.547247325923625)"
      ]
     },
     "execution_count": 6,
     "metadata": {},
     "output_type": "execute_result"
    }
   ],
   "source": [
    "bucket.update_parameters(optimized_parameters)\n",
    "bucket"
   ]
  },
  {
   "cell_type": "code",
   "execution_count": 7,
   "metadata": {},
   "outputs": [],
   "source": [
    "results = bucket.run(training_data)"
   ]
  },
  {
   "cell_type": "code",
   "execution_count": 8,
   "metadata": {},
   "outputs": [
    {
     "data": {
      "text/html": [
       "<div>\n",
       "<style scoped>\n",
       "    .dataframe tbody tr th:only-of-type {\n",
       "        vertical-align: middle;\n",
       "    }\n",
       "\n",
       "    .dataframe tbody tr th {\n",
       "        vertical-align: top;\n",
       "    }\n",
       "\n",
       "    .dataframe thead th {\n",
       "        text-align: right;\n",
       "    }\n",
       "</style>\n",
       "<table border=\"1\" class=\"dataframe\">\n",
       "  <thead>\n",
       "    <tr style=\"text-align: right;\">\n",
       "      <th></th>\n",
       "      <th>ET</th>\n",
       "      <th>Q_s</th>\n",
       "      <th>Q_gw</th>\n",
       "      <th>Snow_accum</th>\n",
       "      <th>S</th>\n",
       "      <th>S_gw</th>\n",
       "      <th>Snow_melt</th>\n",
       "      <th>Rain</th>\n",
       "      <th>Snow</th>\n",
       "      <th>Precip</th>\n",
       "    </tr>\n",
       "    <tr>\n",
       "      <th>date</th>\n",
       "      <th></th>\n",
       "      <th></th>\n",
       "      <th></th>\n",
       "      <th></th>\n",
       "      <th></th>\n",
       "      <th></th>\n",
       "      <th></th>\n",
       "      <th></th>\n",
       "      <th></th>\n",
       "      <th></th>\n",
       "    </tr>\n",
       "  </thead>\n",
       "  <tbody>\n",
       "    <tr>\n",
       "      <th>2000-09-26</th>\n",
       "      <td>1.166338</td>\n",
       "      <td>0.690308</td>\n",
       "      <td>4.182909</td>\n",
       "      <td>519.724463</td>\n",
       "      <td>44.310039</td>\n",
       "      <td>78.889425</td>\n",
       "      <td>3.164631</td>\n",
       "      <td>0.0</td>\n",
       "      <td>0.0</td>\n",
       "      <td>0.0</td>\n",
       "    </tr>\n",
       "    <tr>\n",
       "      <th>2000-09-27</th>\n",
       "      <td>1.111294</td>\n",
       "      <td>0.644617</td>\n",
       "      <td>4.035833</td>\n",
       "      <td>516.769295</td>\n",
       "      <td>44.310039</td>\n",
       "      <td>76.052849</td>\n",
       "      <td>2.955168</td>\n",
       "      <td>0.0</td>\n",
       "      <td>0.0</td>\n",
       "      <td>0.0</td>\n",
       "    </tr>\n",
       "    <tr>\n",
       "      <th>2000-09-28</th>\n",
       "      <td>1.072360</td>\n",
       "      <td>0.614157</td>\n",
       "      <td>3.890719</td>\n",
       "      <td>513.953769</td>\n",
       "      <td>44.310039</td>\n",
       "      <td>73.291139</td>\n",
       "      <td>2.815526</td>\n",
       "      <td>0.0</td>\n",
       "      <td>0.0</td>\n",
       "      <td>0.0</td>\n",
       "    </tr>\n",
       "    <tr>\n",
       "      <th>2000-09-29</th>\n",
       "      <td>0.998389</td>\n",
       "      <td>1.632474</td>\n",
       "      <td>3.749435</td>\n",
       "      <td>511.469892</td>\n",
       "      <td>44.310039</td>\n",
       "      <td>74.394718</td>\n",
       "      <td>2.483877</td>\n",
       "      <td>5.0</td>\n",
       "      <td>0.0</td>\n",
       "      <td>5.0</td>\n",
       "    </tr>\n",
       "    <tr>\n",
       "      <th>2000-09-30</th>\n",
       "      <td>0.907920</td>\n",
       "      <td>7.074036</td>\n",
       "      <td>3.805892</td>\n",
       "      <td>509.439850</td>\n",
       "      <td>44.310039</td>\n",
       "      <td>95.036911</td>\n",
       "      <td>2.030042</td>\n",
       "      <td>30.4</td>\n",
       "      <td>0.0</td>\n",
       "      <td>30.4</td>\n",
       "    </tr>\n",
       "  </tbody>\n",
       "</table>\n",
       "</div>"
      ],
      "text/plain": [
       "                  ET       Q_s      Q_gw  Snow_accum          S       S_gw  \\\n",
       "date                                                                         \n",
       "2000-09-26  1.166338  0.690308  4.182909  519.724463  44.310039  78.889425   \n",
       "2000-09-27  1.111294  0.644617  4.035833  516.769295  44.310039  76.052849   \n",
       "2000-09-28  1.072360  0.614157  3.890719  513.953769  44.310039  73.291139   \n",
       "2000-09-29  0.998389  1.632474  3.749435  511.469892  44.310039  74.394718   \n",
       "2000-09-30  0.907920  7.074036  3.805892  509.439850  44.310039  95.036911   \n",
       "\n",
       "            Snow_melt  Rain  Snow  Precip  \n",
       "date                                       \n",
       "2000-09-26   3.164631   0.0   0.0     0.0  \n",
       "2000-09-27   2.955168   0.0   0.0     0.0  \n",
       "2000-09-28   2.815526   0.0   0.0     0.0  \n",
       "2000-09-29   2.483877   5.0   0.0     5.0  \n",
       "2000-09-30   2.030042  30.4   0.0    30.4  "
      ]
     },
     "execution_count": 8,
     "metadata": {},
     "output_type": "execute_result"
    }
   ],
   "source": [
    "results.tail()"
   ]
  },
  {
   "cell_type": "code",
   "execution_count": 15,
   "metadata": {},
   "outputs": [
    {
     "data": {
      "text/plain": [
       "<Axes: xlabel='date'>"
      ]
     },
     "execution_count": 15,
     "metadata": {},
     "output_type": "execute_result"
    },
    {
     "data": {
      "image/png": "[encoded data removed]",
      "text/plain": [
       "<Figure size 640x480 with 1 Axes>"
      ]
     },
     "metadata": {},
     "output_type": "display_data"
    }
   ],
   "source": [
    "results.Q_gw.plot()"
   ]
  },
  {
   "cell_type": "code",
   "execution_count": null,
   "metadata": {},
   "outputs": [],
   "source": []
  }
 ],
 "metadata": {
  "kernelspec": {
   "display_name": ".venv",
   "language": "python",
   "name": "python3"
  },
  "language_info": {
   "codemirror_mode": {
    "name": "ipython",
    "version": 3
   },
   "file_extension": ".py",
   "mimetype": "text/x-python",
   "name": "python",
   "nbconvert_exporter": "python",
   "pygments_lexer": "ipython3",
   "version": "3.12.0"
  }
 },
 "nbformat": 4,
 "nbformat_minor": 2
}
